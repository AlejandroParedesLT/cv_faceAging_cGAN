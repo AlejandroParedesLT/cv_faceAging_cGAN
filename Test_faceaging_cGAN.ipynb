{
 "cells": [
  {
   "cell_type": "markdown",
   "metadata": {},
   "source": [
    "# Test the trained model\n",
    "Alejandro Paredes La TOrre"
   ]
  },
  {
   "cell_type": "code",
   "execution_count": null,
   "metadata": {},
   "outputs": [],
   "source": [
    "from flask import Flask\n",
    "from demo import Demo\n",
    "from flask import Flask,request\n",
    "from PIL import Image\n",
    "from gevent.pywsgi import WSGIServer\n",
    "import base64\n",
    "\n",
    "app = Flask(__name__)\n",
    "D=Demo(\"checkpoint/IPCGANS/2024-11-17_17-41-14/saved_parameters/gepoch_5_iter_100.pth\")\n",
    "\n",
    "img=Image.open(\"tmp.jpg\").resize((400,400),Image.BILINEAR)\n",
    "for i in range(5):\n",
    "    D.demo(img,i).resize((400,400),Image.BILINEAR).save(\"tmp%d.jpg\"%i)\n",
    "with open(\"tmp.jpg\", \"rb\") as f:\n",
    "    base64_data = base64.b64encode(f.read())\n",
    "\n",
    "age = 30\n",
    "with open(\"tmp%s.jpg\"%age, \"rb\") as f:\n",
    "    base64_data = base64.b64encode(f.read())"
   ]
  }
 ],
 "metadata": {
  "kernelspec": {
   "display_name": "aplt_duke",
   "language": "python",
   "name": "python3"
  },
  "language_info": {
   "name": "python",
   "version": "3.9.13"
  }
 },
 "nbformat": 4,
 "nbformat_minor": 2
}
